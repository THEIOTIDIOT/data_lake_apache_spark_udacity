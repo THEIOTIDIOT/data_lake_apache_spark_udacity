{
 "cells": [
  {
   "cell_type": "code",
   "execution_count": 1,
   "metadata": {
    "editable": true
   },
   "outputs": [],
   "source": [
    "from pyspark.sql import SparkSession\n",
    "import os"
   ]
  },
  {
   "cell_type": "code",
   "execution_count": 2,
   "metadata": {
    "editable": true
   },
   "outputs": [],
   "source": [
    "spark = SparkSession \\\n",
    "    .builder \\\n",
    "    .appName(\"AWS Spark Processes Ran Locally\") \\\n",
    "    .getOrCreate()"
   ]
  },
  {
   "cell_type": "code",
   "execution_count": 3,
   "metadata": {
    "editable": true
   },
   "outputs": [
    {
     "data": {
      "text/plain": [
       "[('spark.driver.host', 'b826327bf2aa'),\n",
       " ('spark.app.id', 'local-1628169470559'),\n",
       " ('spark.rdd.compress', 'True'),\n",
       " ('spark.serializer.objectStreamReset', '100'),\n",
       " ('spark.master', 'local[*]'),\n",
       " ('spark.executor.id', 'driver'),\n",
       " ('spark.app.name', 'AWS Spark Processes Ran Locally'),\n",
       " ('spark.submit.deployMode', 'client'),\n",
       " ('spark.driver.port', '36933'),\n",
       " ('spark.ui.showConsoleProgress', 'true')]"
      ]
     },
     "execution_count": 3,
     "metadata": {},
     "output_type": "execute_result"
    }
   ],
   "source": [
    "spark.sparkContext.getConf().getAll()"
   ]
  },
  {
   "cell_type": "code",
   "execution_count": 4,
   "metadata": {
    "editable": true
   },
   "outputs": [],
   "source": [
    "log_data_path = \"data/log-data/\""
   ]
  },
  {
   "cell_type": "code",
   "execution_count": 150,
   "metadata": {
    "editable": true
   },
   "outputs": [
    {
     "name": "stdout",
     "output_type": "stream",
     "text": [
      "root\n",
      " |-- artist: string (nullable = true)\n",
      " |-- auth: string (nullable = true)\n",
      " |-- firstName: string (nullable = true)\n",
      " |-- gender: string (nullable = true)\n",
      " |-- itemInSession: long (nullable = true)\n",
      " |-- lastName: string (nullable = true)\n",
      " |-- length: double (nullable = true)\n",
      " |-- level: string (nullable = true)\n",
      " |-- location: string (nullable = true)\n",
      " |-- method: string (nullable = true)\n",
      " |-- page: string (nullable = true)\n",
      " |-- registration: double (nullable = true)\n",
      " |-- sessionId: long (nullable = true)\n",
      " |-- song: string (nullable = true)\n",
      " |-- status: long (nullable = true)\n",
      " |-- ts: long (nullable = true)\n",
      " |-- userAgent: string (nullable = true)\n",
      " |-- userId: string (nullable = true)\n",
      "\n"
     ]
    }
   ],
   "source": [
    "#this format is only used if the json file is not in json lines format. i.e. json lines - json file contains 1 json object per line of document\n",
    "#spark.read.option(\"multiline\", \"true\") - \n",
    "df = spark.read.json(log_data_path)\n",
    "df.printSchema()"
   ]
  },
  {
   "cell_type": "code",
   "execution_count": 6,
   "metadata": {
    "editable": true
   },
   "outputs": [
    {
     "data": {
      "text/plain": [
       "8056"
      ]
     },
     "execution_count": 6,
     "metadata": {},
     "output_type": "execute_result"
    }
   ],
   "source": [
    "df.select(\"*\").count()"
   ]
  },
  {
   "cell_type": "code",
   "execution_count": 7,
   "metadata": {
    "editable": true
   },
   "outputs": [
    {
     "name": "stdout",
     "output_type": "stream",
     "text": [
      "+--------------------+\n",
      "|                song|\n",
      "+--------------------+\n",
      "|       Sehr kosmisch|\n",
      "|     The Big Gundown|\n",
      "|            Marry Me|\n",
      "|                null|\n",
      "|                null|\n",
      "|           Blackbird|\n",
      "|                null|\n",
      "|                null|\n",
      "|                null|\n",
      "|Best Of Both Worl...|\n",
      "|Call Me If You Ne...|\n",
      "|                Home|\n",
      "|                 OMG|\n",
      "|                null|\n",
      "| Candle On The Water|\n",
      "|            Our Song|\n",
      "|Baby Boy [feat. B...|\n",
      "|      Black Hole Sun|\n",
      "|               Human|\n",
      "|            Addicted|\n",
      "+--------------------+\n",
      "only showing top 20 rows\n",
      "\n"
     ]
    }
   ],
   "source": [
    "df.select(\"song\").show()"
   ]
  },
  {
   "cell_type": "code",
   "execution_count": 151,
   "metadata": {
    "editable": true
   },
   "outputs": [
    {
     "data": {
      "text/plain": [
       "6820"
      ]
     },
     "execution_count": 151,
     "metadata": {},
     "output_type": "execute_result"
    }
   ],
   "source": [
    "# filter by actions for song plays\n",
    "df = df.filter(df.page == \"NextSong\")\n",
    "df.select(\"*\").count()"
   ]
  },
  {
   "cell_type": "code",
   "execution_count": 157,
   "metadata": {
    "editable": true
   },
   "outputs": [
    {
     "name": "stdout",
     "output_type": "stream",
     "text": [
      "+--------------------+----+---+----+-----+----+-------+\n",
      "|          start_time|hour|day|week|month|year|weekend|\n",
      "+--------------------+----+---+----+-----+----+-------+\n",
      "|2018-11-15 00:30:...|   0| 15|  46|   11|2018|  false|\n",
      "|2018-11-15 00:41:...|   0| 15|  46|   11|2018|  false|\n",
      "|2018-11-15 00:45:...|   0| 15|  46|   11|2018|  false|\n",
      "|2018-11-15 03:44:...|   3| 15|  46|   11|2018|  false|\n",
      "|2018-11-15 05:48:...|   5| 15|  46|   11|2018|  false|\n",
      "|2018-11-15 05:53:...|   5| 15|  46|   11|2018|  false|\n",
      "|2018-11-15 05:55:...|   5| 15|  46|   11|2018|  false|\n",
      "|2018-11-15 06:01:...|   6| 15|  46|   11|2018|  false|\n",
      "|2018-11-15 06:07:...|   6| 15|  46|   11|2018|  false|\n",
      "|2018-11-15 06:10:...|   6| 15|  46|   11|2018|  false|\n",
      "|2018-11-15 06:13:...|   6| 15|  46|   11|2018|  false|\n",
      "|2018-11-15 06:14:...|   6| 15|  46|   11|2018|  false|\n",
      "|2018-11-15 06:17:...|   6| 15|  46|   11|2018|  false|\n",
      "|2018-11-15 06:18:...|   6| 15|  46|   11|2018|  false|\n",
      "|2018-11-15 06:21:...|   6| 15|  46|   11|2018|  false|\n",
      "|2018-11-15 06:25:...|   6| 15|  46|   11|2018|  false|\n",
      "|2018-11-15 06:29:...|   6| 15|  46|   11|2018|  false|\n",
      "|2018-11-15 07:08:...|   7| 15|  46|   11|2018|  false|\n",
      "|2018-11-15 07:12:...|   7| 15|  46|   11|2018|  false|\n",
      "|2018-11-15 07:28:...|   7| 15|  46|   11|2018|  false|\n",
      "+--------------------+----+---+----+-----+----+-------+\n",
      "only showing top 20 rows\n",
      "\n"
     ]
    }
   ],
   "source": [
    "from pyspark.sql.functions import year, month, dayofmonth, hour, weekofyear, date_format, dayofweek\n",
    "get_timestamp = udf(lambda ts : datetime.fromtimestamp(ts/1000.0) if type(ts) is int or type(ts) is float else None, TimestampType())\n",
    "df = df.withColumn('start_time', get_timestamp(df.ts))\n",
    "df = df.withColumn('hour', hour(df.start_time))\n",
    "df = df.withColumn('day', dayofmonth(df.start_time))\n",
    "df = df.withColumn('week', weekofyear(df.start_time))\n",
    "df = df.withColumn('month', month(df.start_time))\n",
    "df = df.withColumn('year', year(df.start_time))\n",
    "df = df.withColumn('weekday', dayofweek(df.start_time))\n",
    "df = df.withColumn('weekend', (df.weekday == 7) | (df.weekday == 1))\n",
    "\n",
    "# extract columns to create time table\n",
    "#columns : start_time, hour, day, week, month, year, weekend\n",
    "fields = [\"start_time\", \"hour\", \"day\", \"week\", \"month\", \"year\", \"weekend\"]\n",
    "exprs = [\"{} as {}\".format(field,field) for field in fields]\n",
    "time_table = df.selectExpr(*exprs)\n",
    "time_table.show()"
   ]
  },
  {
   "cell_type": "code",
   "execution_count": 140,
   "metadata": {
    "editable": true
   },
   "outputs": [
    {
     "name": "stdout",
     "output_type": "stream",
     "text": [
      "+--------------------+---------+---------+------+-------------+--------+---------+-----+--------------------+------+--------+-----------------+---------+--------------------+------+-------------+--------------------+------+--------------------+----+---+----+-----+----+-------+-------+\n",
      "|              artist|     auth|firstName|gender|itemInSession|lastName|   length|level|            location|method|    page|     registration|sessionId|                song|status|           ts|           userAgent|userId|          start_time|hour|day|week|month|year|weekday|weekend|\n",
      "+--------------------+---------+---------+------+-------------+--------+---------+-----+--------------------+------+--------+-----------------+---------+--------------------+------+-------------+--------------------+------+--------------------+----+---+----+-----+----+-------+-------+\n",
      "|            Harmonia|Logged In|     Ryan|     M|            0|   Smith|655.77751| free|San Jose-Sunnyval...|   PUT|NextSong|1.541016707796E12|      583|       Sehr kosmisch|   200|1542241826796|\"Mozilla/5.0 (X11...|    26|2018-11-15 00:30:...|   0| 15|  46|   11|2018|      5|  false|\n",
      "|         The Prodigy|Logged In|     Ryan|     M|            1|   Smith|260.07465| free|San Jose-Sunnyval...|   PUT|NextSong|1.541016707796E12|      583|     The Big Gundown|   200|1542242481796|\"Mozilla/5.0 (X11...|    26|2018-11-15 00:41:...|   0| 15|  46|   11|2018|      5|  false|\n",
      "|               Train|Logged In|     Ryan|     M|            2|   Smith|205.45261| free|San Jose-Sunnyval...|   PUT|NextSong|1.541016707796E12|      583|            Marry Me|   200|1542242741796|\"Mozilla/5.0 (X11...|    26|2018-11-15 00:45:...|   0| 15|  46|   11|2018|      5|  false|\n",
      "|         Sony Wonder|Logged In|   Samuel|     M|            0|Gonzalez|218.06975| free|Houston-The Woodl...|   PUT|NextSong|1.540492941796E12|      597|           Blackbird|   200|1542253449796|\"Mozilla/5.0 (Mac...|    61|2018-11-15 03:44:...|   3| 15|  46|   11|2018|      5|  false|\n",
      "|           Van Halen|Logged In|    Tegan|     F|            2|  Levine|289.38404| paid|Portland-South Po...|   PUT|NextSong|1.540794356796E12|      602|Best Of Both Worl...|   200|1542260935796|\"Mozilla/5.0 (Mac...|    80|2018-11-15 05:48:...|   5| 15|  46|   11|2018|      5|  false|\n",
      "|           Magic Sam|Logged In|    Tegan|     F|            3|  Levine|132.04853| paid|Portland-South Po...|   PUT|NextSong|1.540794356796E12|      602|Call Me If You Ne...|   200|1542261224796|\"Mozilla/5.0 (Mac...|    80|2018-11-15 05:53:...|   5| 15|  46|   11|2018|      5|  false|\n",
      "|Edward Sharpe & T...|Logged In|    Tegan|     F|            4|  Levine|306.31138| paid|Portland-South Po...|   PUT|NextSong|1.540794356796E12|      602|                Home|   200|1542261356796|\"Mozilla/5.0 (Mac...|    80|2018-11-15 05:55:...|   5| 15|  46|   11|2018|      5|  false|\n",
      "|Usher featuring w...|Logged In|    Tegan|     F|            5|  Levine|395.72853| paid|Portland-South Po...|   PUT|NextSong|1.540794356796E12|      602|                 OMG|   200|1542261662796|\"Mozilla/5.0 (Mac...|    80|2018-11-15 06:01:...|   6| 15|  46|   11|2018|      5|  false|\n",
      "|         Helen Reddy|Logged In|    Tegan|     F|            7|  Levine|176.50893| paid|Portland-South Po...|   PUT|NextSong|1.540794356796E12|      602| Candle On The Water|   200|1542262057796|\"Mozilla/5.0 (Mac...|    80|2018-11-15 06:07:...|   6| 15|  46|   11|2018|      5|  false|\n",
      "|        Taylor Swift|Logged In|    Tegan|     F|            8|  Levine|201.06404| paid|Portland-South Po...|   PUT|NextSong|1.540794356796E12|      602|            Our Song|   200|1542262233796|\"Mozilla/5.0 (Mac...|    80|2018-11-15 06:10:...|   6| 15|  46|   11|2018|      5|  false|\n",
      "|           Sean Paul|Logged In|    Tegan|     F|            9|  Levine|245.34159| paid|Portland-South Po...|   PUT|NextSong|1.540794356796E12|      602|Baby Boy [feat. B...|   200|1542262434796|\"Mozilla/5.0 (Mac...|    80|2018-11-15 06:13:...|   6| 15|  46|   11|2018|      5|  false|\n",
      "|         Soundgarden|Logged In|     Lily|     F|            0|    Koch|272.19546| paid|Chicago-Napervill...|   PUT|NextSong|1.541048010796E12|      582|      Black Hole Sun|   200|1542262456796|\"Mozilla/5.0 (X11...|    15|2018-11-15 06:14:...|   6| 15|  46|   11|2018|      5|  false|\n",
      "|         The Killers|Logged In|    Tegan|     F|           10|  Levine|360.75057| paid|Portland-South Po...|   PUT|NextSong|1.540794356796E12|      602|               Human|   200|1542262679796|\"Mozilla/5.0 (Mac...|    80|2018-11-15 06:17:...|   6| 15|  46|   11|2018|      5|  false|\n",
      "|       Amy Winehouse|Logged In|     Lily|     F|            1|    Koch|165.11955| paid|Chicago-Napervill...|   PUT|NextSong|1.541048010796E12|      582|            Addicted|   200|1542262728796|\"Mozilla/5.0 (X11...|    15|2018-11-15 06:18:...|   6| 15|  46|   11|2018|      5|  false|\n",
      "|      Steve Anderson|Logged In|     Lily|     F|            2|    Koch|265.06404| paid|Chicago-Napervill...|   PUT|NextSong|1.541048010796E12|      582|                 Air|   200|1542262893796|\"Mozilla/5.0 (X11...|    15|2018-11-15 06:21:...|   6| 15|  46|   11|2018|      5|  false|\n",
      "|          Rob Zombie|Logged In|     Lily|     F|            3|    Koch|220.13342| paid|Chicago-Napervill...|   PUT|NextSong|1.541048010796E12|      582|          Superbeast|   200|1542263158796|\"Mozilla/5.0 (X11...|    15|2018-11-15 06:25:...|   6| 15|  46|   11|2018|      5|  false|\n",
      "|  Deadmau5 & Kaskade|Logged In|     Lily|     F|            4|    Koch|595.56526| paid|Chicago-Napervill...|   PUT|NextSong|1.541048010796E12|      582|          I Remember|   200|1542263378796|\"Mozilla/5.0 (X11...|    15|2018-11-15 06:29:...|   6| 15|  46|   11|2018|      5|  false|\n",
      "|        Shania Twain|Logged In|     Ryan|     M|            0|   Smith| 213.7073| free|San Jose-Sunnyval...|   PUT|NextSong|1.541016707796E12|      607|Don't Be Stupid (...|   200|1542265716796|\"Mozilla/5.0 (X11...|    26|2018-11-15 07:08:...|   7| 15|  46|   11|2018|      5|  false|\n",
      "|      Los Campesinos|Logged In|     Ryan|     M|            1|   Smith|138.10893| free|San Jose-Sunnyval...|   PUT|NextSong|1.541016707796E12|      607|We throw parties_...|   200|1542265929796|\"Mozilla/5.0 (X11...|    26|2018-11-15 07:12:...|   7| 15|  46|   11|2018|      5|  false|\n",
      "|            Ill Nino|Logged In|    Chloe|     F|            1|  Cuevas| 188.9171| paid|San Francisco-Oak...|   PUT|NextSong|1.540940782796E12|      606|How Can I Live (S...|   200|1542266927796|Mozilla/5.0 (Wind...|    49|2018-11-15 07:28:...|   7| 15|  46|   11|2018|      5|  false|\n",
      "+--------------------+---------+---------+------+-------------+--------+---------+-----+--------------------+------+--------+-----------------+---------+--------------------+------+-------------+--------------------+------+--------------------+----+---+----+-----+----+-------+-------+\n",
      "only showing top 20 rows\n",
      "\n"
     ]
    }
   ],
   "source": [
    "df.show()"
   ]
  },
  {
   "cell_type": "code",
   "execution_count": 9,
   "metadata": {
    "editable": true
   },
   "outputs": [
    {
     "data": {
      "text/plain": [
       "96"
      ]
     },
     "execution_count": 9,
     "metadata": {},
     "output_type": "execute_result"
    }
   ],
   "source": [
    "from pyspark.sql.types import IntegerType\n",
    "# extract columns for users table    \n",
    "#user_id, first_name, last_name, gender, level\n",
    "users_table = df.select(df.userId.cast(\"integer\").alias(\"user_id\"), df.firstName.alias(\"first_name\"),df.lastName.alias(\"last_name\"),df.gender,df.level)\n",
    "\n",
    "users_table = users_table.dropDuplicates(['user_id'])\n",
    "users_table.select(\"*\").count()"
   ]
  },
  {
   "cell_type": "code",
   "execution_count": 10,
   "metadata": {
    "editable": true
   },
   "outputs": [
    {
     "name": "stdout",
     "output_type": "stream",
     "text": [
      "+-------+----------+---------+------+-----+\n",
      "|user_id|first_name|last_name|gender|level|\n",
      "+-------+----------+---------+------+-----+\n",
      "|      2|   Jizelle| Benjamin|     F| free|\n",
      "|      3|     Isaac|   Valdez|     M| free|\n",
      "|      4|    Alivia|  Terrell|     F| free|\n",
      "|      5|    Elijah|    Davis|     M| free|\n",
      "|      6|   Cecilia|    Owens|     F| free|\n",
      "|      7|    Adelyn|   Jordan|     F| free|\n",
      "|      8|    Kaylee|  Summers|     F| free|\n",
      "|      9|     Wyatt|    Scott|     M| free|\n",
      "|     10|    Sylvie|     Cruz|     F| free|\n",
      "|     11| Christian|   Porter|     F| free|\n",
      "|     12|    Austin|  Rosales|     M| free|\n",
      "|     13|       Ava| Robinson|     F| free|\n",
      "|     14|  Theodore|   Harris|     M| free|\n",
      "|     15|      Lily|     Koch|     F| paid|\n",
      "|     16|     Rylan|   George|     M| paid|\n",
      "|     17|  Makinley|    Jones|     F| free|\n",
      "|     18|     Jacob|   Rogers|     M| free|\n",
      "|     19|   Zachary|   Thomas|     M| free|\n",
      "|     20|     Aiden|  Ramirez|     M| paid|\n",
      "|     22|      Sean|   Wilson|     F| free|\n",
      "+-------+----------+---------+------+-----+\n",
      "only showing top 20 rows\n",
      "\n"
     ]
    }
   ],
   "source": [
    "users_table.sort(users_table.user_id).show()"
   ]
  },
  {
   "cell_type": "code",
   "execution_count": 11,
   "metadata": {
    "editable": true
   },
   "outputs": [],
   "source": [
    "output_data = \"data/\"\n",
    "# write users table to parquet files\n",
    "users_table.write.parquet(os.path.join(output_data, \"parquet_data/users\"), \"overwrite\")"
   ]
  },
  {
   "cell_type": "code",
   "execution_count": 44,
   "metadata": {
    "editable": true
   },
   "outputs": [],
   "source": [
    "# create timestamp column from original timestamp column\n",
    "# there is no need to do this function because you can just write a function to convert the ts to datetime"
   ]
  },
  {
   "cell_type": "code",
   "execution_count": 81,
   "metadata": {
    "editable": true
   },
   "outputs": [
    {
     "name": "stdout",
     "output_type": "stream",
     "text": [
      "root\n",
      " |-- DateTimeStruct: struct (nullable = true)\n",
      " |    |-- start_time: timestamp (nullable = true)\n",
      " |    |-- hour: integer (nullable = true)\n",
      " |    |-- day: integer (nullable = true)\n",
      " |    |-- week: integer (nullable = true)\n",
      " |    |-- month: integer (nullable = true)\n",
      " |    |-- year: integer (nullable = true)\n",
      " |    |-- weekend: boolean (nullable = true)\n",
      "\n"
     ]
    }
   ],
   "source": [
    "from pyspark.sql.functions import udf, expr, monotonically_increasing_id\n",
    "from pyspark.sql.types import TimestampType, StructType, StructField, BooleanType\n",
    "from pyspark.sql import DataFrameReader as dfReader\n",
    "from datetime import datetime\n",
    "\n",
    "@udf(TimestampType())\n",
    "def datetimeFromTimestamp(ts):\n",
    "    if type(ts) is int or type(ts) is float:\n",
    "        return datetime.fromtimestamp(ts/1000.0)\n",
    "    else:\n",
    "        return None\n",
    "\n",
    "@udf(StructType([StructField(\"start_time\", TimestampType()),\n",
    "                StructField(\"hour\", IntegerType()),\n",
    "                StructField(\"day\", IntegerType()),\n",
    "                StructField(\"week\", IntegerType()),\n",
    "                StructField(\"month\", IntegerType()),\n",
    "                StructField(\"year\", IntegerType()),\n",
    "                StructField(\"weekend\", BooleanType())]))\n",
    "def parseDateTime(ts):\n",
    "    if type(ts) is int or type(ts) is float:\n",
    "        dt = datetime.fromtimestamp(ts/1000.0)\n",
    "        return{\n",
    "        \"start_time\" : dt,\n",
    "        \"hour\" : dt.hour,\n",
    "        \"day\" : dt.day,\n",
    "        \"week\" : dt.isocalendar()[1],\n",
    "        \"month\" : dt.month,\n",
    "        \"year\" : dt.year,\n",
    "        \"weekend\" : True if dt.weekday() >= 5 and dt.weekday() <= 6 else False\n",
    "        }\n",
    "    else:\n",
    "        dt = None\n",
    "        return{\n",
    "        \"start_time\" : dt,\n",
    "        \"hour\" : dt,\n",
    "        \"day\" : dt,\n",
    "        \"week\" : dt,\n",
    "        \"month\" : dt,\n",
    "        \"year\" : dt,\n",
    "        \"weekend\" : dt\n",
    "        }\n",
    "\n",
    "dtDf = df.select(parseDateTime(df.ts).alias(\"DateTimeStruct\"))\n",
    "\n",
    "dtDf.printSchema()"
   ]
  },
  {
   "cell_type": "code",
   "execution_count": 66,
   "metadata": {
    "editable": true
   },
   "outputs": [
    {
     "name": "stdout",
     "output_type": "stream",
     "text": [
      "+--------------------+----+---+----+-----+----+-------+\n",
      "|          start_time|hour|day|week|month|year|weekend|\n",
      "+--------------------+----+---+----+-----+----+-------+\n",
      "|2018-11-15 00:30:...|   0| 15|  46|   11|2018|  false|\n",
      "|2018-11-15 00:41:...|   0| 15|  46|   11|2018|  false|\n",
      "|2018-11-15 00:45:...|   0| 15|  46|   11|2018|  false|\n",
      "|2018-11-15 03:44:...|   3| 15|  46|   11|2018|  false|\n",
      "|2018-11-15 05:48:...|   5| 15|  46|   11|2018|  false|\n",
      "|2018-11-15 05:53:...|   5| 15|  46|   11|2018|  false|\n",
      "|2018-11-15 05:55:...|   5| 15|  46|   11|2018|  false|\n",
      "|2018-11-15 06:01:...|   6| 15|  46|   11|2018|  false|\n",
      "|2018-11-15 06:07:...|   6| 15|  46|   11|2018|  false|\n",
      "|2018-11-15 06:10:...|   6| 15|  46|   11|2018|  false|\n",
      "|2018-11-15 06:13:...|   6| 15|  46|   11|2018|  false|\n",
      "|2018-11-15 06:14:...|   6| 15|  46|   11|2018|  false|\n",
      "|2018-11-15 06:17:...|   6| 15|  46|   11|2018|  false|\n",
      "|2018-11-15 06:18:...|   6| 15|  46|   11|2018|  false|\n",
      "|2018-11-15 06:21:...|   6| 15|  46|   11|2018|  false|\n",
      "|2018-11-15 06:25:...|   6| 15|  46|   11|2018|  false|\n",
      "|2018-11-15 06:29:...|   6| 15|  46|   11|2018|  false|\n",
      "|2018-11-15 07:08:...|   7| 15|  46|   11|2018|  false|\n",
      "|2018-11-15 07:12:...|   7| 15|  46|   11|2018|  false|\n",
      "|2018-11-15 07:28:...|   7| 15|  46|   11|2018|  false|\n",
      "+--------------------+----+---+----+-----+----+-------+\n",
      "only showing top 20 rows\n",
      "\n"
     ]
    }
   ],
   "source": [
    "# extract columns to create time table\n",
    "#columns : start_time, hour, day, week, month, year, weekend\n",
    "fields = [\"start_time\", \"hour\", \"day\", \"week\", \"month\", \"year\", \"weekend\"]\n",
    "exprs = [\"DateTimeStruct['{}'] as {}\".format(field,field) for field in fields]\n",
    "time_table = dtDf.selectExpr(*exprs)\n",
    "time_table.show()"
   ]
  },
  {
   "cell_type": "code",
   "execution_count": 52,
   "metadata": {
    "editable": true
   },
   "outputs": [],
   "source": [
    "time_partition_list = ['year', 'month']\n",
    "# write time table to parquet files partitioned by year and month\n",
    "time_table.write.parquet(os.path.join(output_data, \"parquet_data/time\"), \"overwrite\", time_partition_list)"
   ]
  },
  {
   "cell_type": "code",
   "execution_count": 147,
   "metadata": {
    "editable": true
   },
   "outputs": [
    {
     "name": "stdout",
     "output_type": "stream",
     "text": [
      "+------------------+--------------------+---------+------------------+\n",
      "|           song_id|               title| duration|         artist_id|\n",
      "+------------------+--------------------+---------+------------------+\n",
      "|SOAOIBZ12AB01815BE|I Hold Your Hand ...| 43.36281|ARPBNLO1187FB3D52F|\n",
      "|SONYPOM12A8C13B2D7|I Think My Wife I...|186.48771|ARDNS031187B9924F0|\n",
      "|SODREIN12A58A7F2E5|A Whiter Shade Of...|326.00771|ARLTWXK1187FB5A3F8|\n",
      "|SOYMRWW12A6D4FAB14|The Moon And I (O...| 267.7024|ARKFYS91187B98E58F|\n",
      "|SOWQTQZ12A58A7B63E|Streets On Fire (...|279.97995|ARPFHN61187FB575F6|\n",
      "|SOUDSGM12AC9618304|Insatiable (Instr...|266.39628|ARNTLGG11E2835DDB9|\n",
      "|SOPEGZN12AB0181B3D|Get Your Head Stu...| 45.66159|AREDL271187FB40F44|\n",
      "|SOOLYAZ12A6701F4A6|Laws Patrolling (...|173.66159|AREBBGV1187FB523D2|\n",
      "|SOBAYLL12A8C138AF9|Sono andati? Fing...|511.16363|ARDR4AC1187FB371A1|\n",
      "|SOBBUGU12A8C13E95D|Setting Fire to S...|207.77751|ARMAC4T1187FB3FA4C|\n",
      "|SOFFKZS12AB017F194|A Higher Place (A...|236.17261|ARBEBBY1187B9B43DB|\n",
      "|SOBLGCN12AB0183212|James (Hold The L...|124.86485|AR47JEX1187B995D81|\n",
      "|SOBKWDJ12A8C13B2F3|Wild Rose (Back 2...|230.71302|AR36F9J1187FB406F1|\n",
      "|SOBBXLX12A58A79DDA|Erica (2005 Digit...|138.63138|AREDBBQ1187B98AFF5|\n",
      "|SONWXQJ12A8C134D94|The Ballad Of Sle...|  305.162|ARNF6401187FB57032|\n",
      "|SOTCKKY12AB018A141|Sonnerie lalaleul...| 29.54404|ARGSAFR1269FB35070|\n",
      "|SOGNCJP12A58A80271|Do You Finally Ne...|342.56934|ARB29H41187B98F0EF|\n",
      "|SOFNOQK12AB01840FC|Kutt Free (DJ Vol...|407.37914|ARNNKDK1187B98BBD5|\n",
      "|SOGXHEG12AB018653E|It Makes No Diffe...|133.32853|AR0RCMP1187FB3F427|\n",
      "|SOWTBJW12AC468AC6E|Broken-Down Merry...|151.84934|ARQGYP71187FB44566|\n",
      "+------------------+--------------------+---------+------------------+\n",
      "only showing top 20 rows\n",
      "\n"
     ]
    }
   ],
   "source": [
    "# read in song data to use for songplays table\n",
    "song_df = spark.read.parquet(os.path.join(output_data, \"parquet_data/songs\"))\n",
    "#song_df = song_df.dropDuplicates([\"title\"])\n",
    "song_df = song_df.drop('year')\n",
    "song_df.show()"
   ]
  },
  {
   "cell_type": "code",
   "execution_count": 156,
   "metadata": {
    "editable": true
   },
   "outputs": [
    {
     "name": "stdout",
     "output_type": "stream",
     "text": [
      "root\n",
      " |-- artist: string (nullable = true)\n",
      " |-- auth: string (nullable = true)\n",
      " |-- firstName: string (nullable = true)\n",
      " |-- gender: string (nullable = true)\n",
      " |-- itemInSession: long (nullable = true)\n",
      " |-- lastName: string (nullable = true)\n",
      " |-- length: double (nullable = true)\n",
      " |-- level: string (nullable = true)\n",
      " |-- location: string (nullable = true)\n",
      " |-- method: string (nullable = true)\n",
      " |-- page: string (nullable = true)\n",
      " |-- registration: double (nullable = true)\n",
      " |-- sessionId: long (nullable = true)\n",
      " |-- song: string (nullable = true)\n",
      " |-- status: long (nullable = true)\n",
      " |-- ts: long (nullable = true)\n",
      " |-- userAgent: string (nullable = true)\n",
      " |-- userId: string (nullable = true)\n",
      "\n"
     ]
    }
   ],
   "source": [
    "df.printSchema()"
   ]
  },
  {
   "cell_type": "code",
   "execution_count": 158,
   "metadata": {
    "editable": true
   },
   "outputs": [
    {
     "name": "stdout",
     "output_type": "stream",
     "text": [
      "+-----------+--------------------+-------+-----+-------+---------+----------+--------------------+--------------------+----+-----+\n",
      "|songplay_id|          start_time|user_id|level|song_id|artist_id|session_id|            location|          user_agent|year|month|\n",
      "+-----------+--------------------+-------+-----+-------+---------+----------+--------------------+--------------------+----+-----+\n",
      "|          0|2018-11-20 14:21:...|     44| paid|   null|     null|        19|Waterloo-Cedar Fa...|Mozilla/5.0 (Maci...|2018|   11|\n",
      "|          1|2018-11-21 23:36:...|     15| paid|   null|     null|        32|Chicago-Napervill...|\"Mozilla/5.0 (X11...|2018|   11|\n",
      "|          2|2018-11-21 12:29:...|     15| paid|   null|     null|        51|Chicago-Napervill...|\"Mozilla/5.0 (X11...|2018|   11|\n",
      "|          3|2018-11-05 13:42:...|     44| paid|   null|     null|        57|Waterloo-Cedar Fa...|Mozilla/5.0 (Maci...|2018|   11|\n",
      "|          4|2018-11-04 07:00:...|     25| paid|   null|     null|        28|    Marinette, WI-MI|\"Mozilla/5.0 (Win...|2018|   11|\n",
      "|          5|2018-11-28 10:59:...|     82| paid|   null|     null|        35|Atlanta-Sandy Spr...|\"Mozilla/5.0 (Mac...|2018|   11|\n",
      "|          6|2018-11-04 19:23:...|     73| paid|   null|     null|         2|Tampa-St. Petersb...|\"Mozilla/5.0 (Mac...|2018|   11|\n",
      "|          7|2018-11-20 11:06:...|     58| paid|   null|     null|         2|Augusta-Richmond ...|\"Mozilla/5.0 (Win...|2018|   11|\n",
      "|          8|2018-11-19 22:03:...|     25| paid|   null|     null|         4|    Marinette, WI-MI|\"Mozilla/5.0 (Win...|2018|   11|\n",
      "|          9|2018-11-29 17:05:...|     16| paid|   null|     null|        35|Birmingham-Hoover...|\"Mozilla/5.0 (Mac...|2018|   11|\n",
      "|         10|2018-11-26 13:59:...|     72| paid|   null|     null|         2|Detroit-Warren-De...|Mozilla/5.0 (Maci...|2018|   11|\n",
      "|         11|2018-11-05 10:35:...|     95| paid|   null|     null|        16|   Winston-Salem, NC|\"Mozilla/5.0 (iPh...|2018|   11|\n",
      "|         12|2018-11-09 14:01:...|     80| paid|   null|     null|         3|Portland-South Po...|\"Mozilla/5.0 (Mac...|2018|   11|\n",
      "|         13|2018-11-05 18:00:...|     97| paid|   null|     null|        43|Lansing-East Lans...|\"Mozilla/5.0 (X11...|2018|   11|\n",
      "|         14|2018-11-28 14:33:...|     97| paid|   null|     null|        36|Lansing-East Lans...|\"Mozilla/5.0 (X11...|2018|   11|\n",
      "|         15|2018-11-14 17:34:...|     67| free|   null|     null|         2|Nashville-Davidso...|\"Mozilla/5.0 (Mac...|2018|   11|\n",
      "|         16|2018-11-20 10:20:...|     15| paid|   null|     null|        61|Chicago-Napervill...|\"Mozilla/5.0 (X11...|2018|   11|\n",
      "|         17|2018-11-14 09:47:...|     58| paid|   null|     null|        27|Augusta-Richmond ...|\"Mozilla/5.0 (Win...|2018|   11|\n",
      "|         18|2018-11-16 09:35:...|     49| paid|   null|     null|        18|San Francisco-Oak...|Mozilla/5.0 (Wind...|2018|   11|\n",
      "|         19|2018-11-15 15:13:...|     97| paid|   null|     null|        17|Lansing-East Lans...|\"Mozilla/5.0 (X11...|2018|   11|\n",
      "+-----------+--------------------+-------+-----+-------+---------+----------+--------------------+--------------------+----+-----+\n",
      "only showing top 20 rows\n",
      "\n"
     ]
    }
   ],
   "source": [
    "# extract columns from joined song and log datasets to create songplays table\n",
    "# songplay_id, start_time, user_id, level, song_id, artist_id, session_id, location, user_agent\n",
    "join_cond = [df.song == songDf.title, df.artist == songDf.artist_name, df.length == songDf.duration]\n",
    "\n",
    "songDf = songDf.drop('year')\n",
    "\n",
    "songsLogsJoinTable = df.join(songDf, join_cond, 'full')\n",
    "songplaysUnclean = songsLogsJoinTable.withColumn(\"songplay_id\", monotonically_increasing_id())\n",
    "#songplaysUnclean = songplaysUnclean.withColumn('dtStruct', parseDateTime(songplaysUnclean.ts))\n",
    "songplays_table = songplaysUnclean.select(songplaysUnclean.songplay_id, songplaysUnclean.start_time,\\\n",
    "                                          songplaysUnclean.userId.alias(\"user_id\"), songplaysUnclean.level,\\\n",
    "                                          songplaysUnclean.song_id, songplaysUnclean.artist_id,\\\n",
    "                                          songplaysUnclean.itemInSession.alias(\"session_id\"), songplaysUnclean.location,\\\n",
    "                                          songplaysUnclean.userAgent.alias(\"user_agent\"), songplaysUnclean.year,\\\n",
    "                                          songplaysUnclean.month)\n",
    "songplays_table.show()"
   ]
  },
  {
   "cell_type": "code",
   "execution_count": 76,
   "metadata": {
    "editable": true
   },
   "outputs": [],
   "source": [
    "#songplaysUnclean.show()"
   ]
  },
  {
   "cell_type": "code",
   "execution_count": 91,
   "metadata": {
    "editable": true
   },
   "outputs": [],
   "source": [
    "songplays_partition_list = ['year', 'month']\n",
    "# write songplays table to parquet files partitioned by year and month\n",
    "songplays_table.write.parquet(os.path.join(output_data, \"parquet_data/songplays\"), \"overwrite\", songplays_partition_list)"
   ]
  },
  {
   "cell_type": "code",
   "execution_count": 153,
   "metadata": {
    "editable": true
   },
   "outputs": [],
   "source": [
    "#you have to use a relative path here to dive down to where the json files live\n",
    "song_data_path = \"data/song_data/*/*/*/*.json\"\n",
    "#song data json files are contained within a tree of folders - we need to determine how to get data from all endpoints of the folders\n",
    "#Recursive File Lookup\n",
    "songDf = spark.read.format(\"json\")\\\n",
    "    .option(\"recursiveFileLookup\", \"true\")\\\n",
    "    .load(song_data_path)\n",
    "songDf = songDf.dropDuplicates()"
   ]
  },
  {
   "cell_type": "code",
   "execution_count": 154,
   "metadata": {
    "editable": true
   },
   "outputs": [
    {
     "name": "stdout",
     "output_type": "stream",
     "text": [
      "root\n",
      " |-- artist_id: string (nullable = true)\n",
      " |-- artist_latitude: double (nullable = true)\n",
      " |-- artist_location: string (nullable = true)\n",
      " |-- artist_longitude: double (nullable = true)\n",
      " |-- artist_name: string (nullable = true)\n",
      " |-- duration: double (nullable = true)\n",
      " |-- num_songs: long (nullable = true)\n",
      " |-- song_id: string (nullable = true)\n",
      " |-- title: string (nullable = true)\n",
      " |-- year: long (nullable = true)\n",
      "\n"
     ]
    }
   ],
   "source": [
    "songDf.printSchema()"
   ]
  },
  {
   "cell_type": "code",
   "execution_count": 41,
   "metadata": {
    "editable": true
   },
   "outputs": [],
   "source": [
    "#songDf.select(\"artist_id\", \"artist_name\").show()"
   ]
  },
  {
   "cell_type": "code",
   "execution_count": 39,
   "metadata": {
    "editable": true
   },
   "outputs": [
    {
     "data": {
      "text/plain": [
       "71"
      ]
     },
     "execution_count": 39,
     "metadata": {},
     "output_type": "execute_result"
    }
   ],
   "source": [
    "songDf.select(\"*\").count()"
   ]
  },
  {
   "cell_type": "code",
   "execution_count": 28,
   "metadata": {
    "editable": true
   },
   "outputs": [
    {
     "data": {
      "text/plain": [
       "71"
      ]
     },
     "execution_count": 28,
     "metadata": {},
     "output_type": "execute_result"
    }
   ],
   "source": [
    "# extract columns to create songs table\n",
    "# Columns : song_id, title, artist_id, year, duration\n",
    "songs_table = df.select(\"song_id\", \"title\",\"artist_id\", \"year\", \"duration\")\n",
    "\n",
    "# write songs table to parquet files partitioned by year and artist\n",
    "songs_table.select(\"*\").count()"
   ]
  },
  {
   "cell_type": "code",
   "execution_count": 89,
   "metadata": {
    "editable": true
   },
   "outputs": [],
   "source": [
    "\n",
    "# extract columns to create artists table\n",
    "# Columns : artist_id, name, location, lattitude, longitude\n",
    "artists_table = df.select(\"artist_id\", df[\"artist_name\"].alias(\"name\"), df[\"artist_location\"].alias(\"location\"), df[\"artist_latitude\"].alias(\"latitude\"), df[\"artist_longitude\"].alias(\"longitude\"))\n",
    "\n",
    "# write artists table to parquet files\n",
    "artists_table.write.parquet(os.path.join(output_data, 'parquet_data/artists'), \"overwrite\")"
   ]
  },
  {
   "cell_type": "code",
   "execution_count": 128,
   "metadata": {
    "editable": true
   },
   "outputs": [],
   "source": [
    "\n",
    "partitionList = list(['year', 'artist_id'])\n",
    "# write songs table to parquet files partitioned by year and artist\n",
    "\n",
    "#One way to do it\n",
    "#songs_table.write.partitionBy(\"year\", \"artist_id\").mode(\"overwrite\").save(os.path.join(output_data, 'parquet_song_data/songs'))\n",
    "\n",
    "#The way the doco describes saving the parquet files\n",
    "songs_table.write.parquet(os.path.join(output_data, 'parquet_data/songs'), \"overwrite\", partitionList)"
   ]
  },
  {
   "cell_type": "code",
   "execution_count": null,
   "metadata": {
    "editable": true
   },
   "outputs": [],
   "source": []
  },
  {
   "cell_type": "code",
   "execution_count": null,
   "metadata": {
    "editable": true
   },
   "outputs": [],
   "source": []
  }
 ],
 "metadata": {
  "kernelspec": {
   "display_name": "Python 3",
   "language": "python",
   "name": "python3"
  },
  "language_info": {
   "codemirror_mode": {
    "name": "ipython",
    "version": 3
   },
   "file_extension": ".py",
   "mimetype": "text/x-python",
   "name": "python",
   "nbconvert_exporter": "python",
   "pygments_lexer": "ipython3",
   "version": "3.6.3"
  }
 },
 "nbformat": 4,
 "nbformat_minor": 4
}
